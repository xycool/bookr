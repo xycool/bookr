{
 "cells": [
  {
   "cell_type": "code",
   "execution_count": 1,
   "id": "6cbb1c3f",
   "metadata": {},
   "outputs": [
    {
     "name": "stdout",
     "output_type": "stream",
     "text": [
      "Packt Publishing\n",
      "Packt Publishing\n",
      "Packt Publishing\n",
      "Packt Publishing\n",
      "Packt Publishing\n",
      "Packt Publishing\n",
      "Scribner\n",
      "Houghton Mifflin Harcourt\n",
      "CreateSpace Independent Publishing Platform\n"
     ]
    }
   ],
   "source": [
    "from reviews.models import Book\n",
    "from datetime import date\n",
    "\n",
    "book = Book.objects.filter(publication_date__gt=date(2014, 1, 1))\n",
    "for i, elm in enumerate(list(book)):\n",
    "    print(elm.publisher)"
   ]
  },
  {
   "cell_type": "code",
   "execution_count": 1,
   "id": "a33c0741",
   "metadata": {},
   "outputs": [
    {
     "data": {
      "text/plain": [
       "<QuerySet [<Book: Advanced Deep Learning with Keras>, <Book: Hands-On Machine Learning for Algorithmic Trading>, <Book: Architects of Intelligence>, <Book: Deep Reinforcement Learning Hands-On>, <Book: Natural Language Processing with TensorFlow>, <Book: Hands-On Reinforcement Learning with Python>, <Book: Brave New World>, <Book: The Grapes of Wrath>, <Book: For Whom The Bell Tolls>, <Book: To Kill A Mocking Bird>, <Book: The Great Gatsby>, <Book: The Catcher in the Rye>, <Book: Farenheit 451>, <Book: Pride and Prejudice>, <Book: 1984>, <Book: Animal Farm: A Fairy Story>, <Book: Paul Clifford>, <Book: The Talisman>]>"
      ]
     },
     "execution_count": 1,
     "metadata": {},
     "output_type": "execute_result"
    }
   ],
   "source": [
    "Book.objects.all()"
   ]
  },
  {
   "cell_type": "code",
   "execution_count": 4,
   "id": "8163b44a",
   "metadata": {},
   "outputs": [
    {
     "data": {
      "text/plain": [
       "2"
      ]
     },
     "execution_count": 4,
     "metadata": {},
     "output_type": "execute_result"
    }
   ],
   "source": [
    "1+1"
   ]
  },
  {
   "cell_type": "code",
   "execution_count": null,
   "id": "91fa9e9e",
   "metadata": {},
   "outputs": [],
   "source": []
  }
 ],
 "metadata": {
  "kernelspec": {
   "display_name": "Django Kernel",
   "language": "python",
   "name": "django_extensions"
  },
  "language_info": {
   "codemirror_mode": {
    "name": "ipython",
    "version": 3
   },
   "file_extension": ".py",
   "mimetype": "text/x-python",
   "name": "python",
   "nbconvert_exporter": "python",
   "pygments_lexer": "ipython3",
   "version": "3.10.5"
  }
 },
 "nbformat": 4,
 "nbformat_minor": 5
}
